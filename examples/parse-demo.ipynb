{
 "cells": [
  {
   "cell_type": "code",
   "execution_count": 1,
   "id": "327ae9c4-8323-4a3a-b5b9-37e3591d11c5",
   "metadata": {},
   "outputs": [],
   "source": [
    "githubs = [\n",
    "    \"https://github.com/koaning/justcharts/\",\n",
    "    \"https://github.com/koaning/human-learn/\",\n",
    "    \"https://github.com/r1chardj0n3s/parse/\",\n",
    "]"
   ]
  },
  {
   "cell_type": "code",
   "execution_count": 5,
   "id": "681710ce-d922-4c16-8929-24afa42ec615",
   "metadata": {},
   "outputs": [],
   "source": [
    "from parse import parse"
   ]
  },
  {
   "cell_type": "code",
   "execution_count": 17,
   "id": "b716e760-b926-4c90-98ad-3ffb01f1b48e",
   "metadata": {},
   "outputs": [
    {
     "data": {
      "text/plain": [
       "[{'owner': 'koaning', 'project_name': 'justcharts'},\n",
       " {'owner': 'koaning', 'project_name': 'human-learn'},\n",
       " {'owner': 'r1chardj0n3s', 'project_name': 'parse'}]"
      ]
     },
     "execution_count": 17,
     "metadata": {},
     "output_type": "execute_result"
    }
   ],
   "source": [
    "[parse(\"https://github.com/{owner}/{project_name}/\", g).named for g in githubs]"
   ]
  },
  {
   "cell_type": "code",
   "execution_count": null,
   "id": "455d314e-d8f0-4b55-a28e-af84b237f63f",
   "metadata": {},
   "outputs": [],
   "source": []
  }
 ],
 "metadata": {
  "kernelspec": {
   "display_name": "Python 3",
   "language": "python",
   "name": "python3"
  },
  "language_info": {
   "codemirror_mode": {
    "name": "ipython",
    "version": 3
   },
   "file_extension": ".py",
   "mimetype": "text/x-python",
   "name": "python",
   "nbconvert_exporter": "python",
   "pygments_lexer": "ipython3",
   "version": "3.7.9"
  }
 },
 "nbformat": 4,
 "nbformat_minor": 5
}
