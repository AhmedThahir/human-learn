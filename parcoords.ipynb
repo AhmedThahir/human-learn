{
 "cells": [
  {
   "cell_type": "code",
   "execution_count": 93,
   "metadata": {},
   "outputs": [],
   "source": [
    "class ParallelCoordChart:\n",
    "    def __init__(self, dataf, labels, color=None):\n",
    "        self.dataf = dataf\n",
    "        self.labels = labels\n",
    "        self.charts = []\n",
    "        self.color = color\n",
    "\n",
    "    def render(self):\n",
    "        pass"
   ]
  },
  {
   "cell_type": "code",
   "execution_count": 94,
   "metadata": {},
   "outputs": [],
   "source": [
    "import pathlib\n",
    "import uuid\n",
    "import json\n",
    "import random\n",
    "\n",
    "import pandas as pd\n",
    "from hulearn.datasets import load_fish\n",
    "\n",
    "def _random_string():\n",
    "        return \"\".join([random.choice(\"qwertyuiopasdfghjklzxcvbnm\") for _ in range(4)])"
   ]
  },
  {
   "cell_type": "code",
   "execution_count": 95,
   "metadata": {},
   "outputs": [],
   "source": [
    "df = load_fish(as_frame=True)"
   ]
  },
  {
   "cell_type": "code",
   "execution_count": 96,
   "metadata": {},
   "outputs": [],
   "source": [
    "json_data = df.to_json(orient='records')"
   ]
  },
  {
   "cell_type": "code",
   "execution_count": 97,
   "metadata": {},
   "outputs": [],
   "source": [
    "# json_data = json.dumps([{\"a\": random.random(), \"b\": random.random(), \"c\": random.random()} for i in range(10)])"
   ]
  },
  {
   "cell_type": "code",
   "execution_count": 98,
   "metadata": {},
   "outputs": [],
   "source": [
    "from string import Template\n",
    "\n",
    "t = Template(pathlib.Path(\"hulearn/static/parcoords/template.html\").read_text())"
   ]
  },
  {
   "cell_type": "code",
   "execution_count": 99,
   "metadata": {},
   "outputs": [],
   "source": [
    "css_blob = \"\\n\".join([p.read_text() for p in pathlib.Path(\"hulearn/static/parcoords/\").glob(\"*.css\")])\n",
    "js_blob = \"\\n\".join([pathlib.Path(\"hulearn/static/parcoords/d3.parcoords.js\").read_text()])"
   ]
  },
  {
   "cell_type": "code",
   "execution_count": 100,
   "metadata": {},
   "outputs": [],
   "source": [
    "from IPython.core.display import HTML\n",
    "\n",
    "def moar_human_learn():\n",
    "    return HTML(t.substitute({'data': json_data, 'id': _random_string(), \"style\": css_blob, \"script\": js_blob, \"height\": \"200px\"}))"
   ]
  },
  {
   "cell_type": "code",
   "execution_count": 104,
   "metadata": {},
   "outputs": [
    {
     "data": {
      "text/html": [
       "<head>\n",
       "    <script src=\"https://cdnjs.cloudflare.com/ajax/libs/d3/3.5.5/d3.min.js\"></script>\n",
       "    <script src=\"https://syntagmatic.github.io/parallel-coordinates/d3.parcoords.js\"></script>\n",
       "    <link rel=\"stylesheet\" type=\"text/css\" href=\"https://syntagmatic.github.io/parallel-coordinates/d3.parcoords.css\">\n",
       "</head>\n",
       "<main>\n",
       "    <div id=\"uckv\" class=\"parcoords\" style=\"height: 200px\"></div>\n",
       "    <script>\n",
       "        var colors = d3.scale.category20b();\n",
       "        // load csv file and create the chart\n",
       "        var parcoords;\n",
       "        var data = [{\"Species\":\"Bream\",\"Weight\":242.0,\"Length1\":23.2,\"Length2\":25.4,\"Length3\":30.0,\"Height\":11.52,\"Width\":4.02},{\"Species\":\"Bream\",\"Weight\":290.0,\"Length1\":24.0,\"Length2\":26.3,\"Length3\":31.2,\"Height\":12.48,\"Width\":4.3056},{\"Species\":\"Bream\",\"Weight\":340.0,\"Length1\":23.9,\"Length2\":26.5,\"Length3\":31.1,\"Height\":12.3778,\"Width\":4.6961},{\"Species\":\"Bream\",\"Weight\":363.0,\"Length1\":26.3,\"Length2\":29.0,\"Length3\":33.5,\"Height\":12.73,\"Width\":4.4555},{\"Species\":\"Bream\",\"Weight\":430.0,\"Length1\":26.5,\"Length2\":29.0,\"Length3\":34.0,\"Height\":12.444,\"Width\":5.134},{\"Species\":\"Bream\",\"Weight\":450.0,\"Length1\":26.8,\"Length2\":29.7,\"Length3\":34.7,\"Height\":13.6024,\"Width\":4.9274},{\"Species\":\"Bream\",\"Weight\":500.0,\"Length1\":26.8,\"Length2\":29.7,\"Length3\":34.5,\"Height\":14.1795,\"Width\":5.2785},{\"Species\":\"Bream\",\"Weight\":390.0,\"Length1\":27.6,\"Length2\":30.0,\"Length3\":35.0,\"Height\":12.67,\"Width\":4.69},{\"Species\":\"Bream\",\"Weight\":450.0,\"Length1\":27.6,\"Length2\":30.0,\"Length3\":35.1,\"Height\":14.0049,\"Width\":4.8438},{\"Species\":\"Bream\",\"Weight\":500.0,\"Length1\":28.5,\"Length2\":30.7,\"Length3\":36.2,\"Height\":14.2266,\"Width\":4.9594},{\"Species\":\"Bream\",\"Weight\":475.0,\"Length1\":28.4,\"Length2\":31.0,\"Length3\":36.2,\"Height\":14.2628,\"Width\":5.1042},{\"Species\":\"Bream\",\"Weight\":500.0,\"Length1\":28.7,\"Length2\":31.0,\"Length3\":36.2,\"Height\":14.3714,\"Width\":4.8146},{\"Species\":\"Bream\",\"Weight\":500.0,\"Length1\":29.1,\"Length2\":31.5,\"Length3\":36.4,\"Height\":13.7592,\"Width\":4.368},{\"Species\":\"Bream\",\"Weight\":340.0,\"Length1\":29.5,\"Length2\":32.0,\"Length3\":37.3,\"Height\":13.9129,\"Width\":5.0728},{\"Species\":\"Bream\",\"Weight\":600.0,\"Length1\":29.4,\"Length2\":32.0,\"Length3\":37.2,\"Height\":14.9544,\"Width\":5.1708},{\"Species\":\"Bream\",\"Weight\":600.0,\"Length1\":29.4,\"Length2\":32.0,\"Length3\":37.2,\"Height\":15.438,\"Width\":5.58},{\"Species\":\"Bream\",\"Weight\":700.0,\"Length1\":30.4,\"Length2\":33.0,\"Length3\":38.3,\"Height\":14.8604,\"Width\":5.2854},{\"Species\":\"Bream\",\"Weight\":700.0,\"Length1\":30.4,\"Length2\":33.0,\"Length3\":38.5,\"Height\":14.938,\"Width\":5.1975},{\"Species\":\"Bream\",\"Weight\":610.0,\"Length1\":30.9,\"Length2\":33.5,\"Length3\":38.6,\"Height\":15.633,\"Width\":5.1338},{\"Species\":\"Bream\",\"Weight\":650.0,\"Length1\":31.0,\"Length2\":33.5,\"Length3\":38.7,\"Height\":14.4738,\"Width\":5.7276},{\"Species\":\"Bream\",\"Weight\":575.0,\"Length1\":31.3,\"Length2\":34.0,\"Length3\":39.5,\"Height\":15.1285,\"Width\":5.5695},{\"Species\":\"Bream\",\"Weight\":685.0,\"Length1\":31.4,\"Length2\":34.0,\"Length3\":39.2,\"Height\":15.9936,\"Width\":5.3704},{\"Species\":\"Bream\",\"Weight\":620.0,\"Length1\":31.5,\"Length2\":34.5,\"Length3\":39.7,\"Height\":15.5227,\"Width\":5.2801},{\"Species\":\"Bream\",\"Weight\":680.0,\"Length1\":31.8,\"Length2\":35.0,\"Length3\":40.6,\"Height\":15.4686,\"Width\":6.1306},{\"Species\":\"Bream\",\"Weight\":700.0,\"Length1\":31.9,\"Length2\":35.0,\"Length3\":40.5,\"Height\":16.2405,\"Width\":5.589},{\"Species\":\"Bream\",\"Weight\":725.0,\"Length1\":31.8,\"Length2\":35.0,\"Length3\":40.9,\"Height\":16.36,\"Width\":6.0532},{\"Species\":\"Bream\",\"Weight\":720.0,\"Length1\":32.0,\"Length2\":35.0,\"Length3\":40.6,\"Height\":16.3618,\"Width\":6.09},{\"Species\":\"Bream\",\"Weight\":714.0,\"Length1\":32.7,\"Length2\":36.0,\"Length3\":41.5,\"Height\":16.517,\"Width\":5.8515},{\"Species\":\"Bream\",\"Weight\":850.0,\"Length1\":32.8,\"Length2\":36.0,\"Length3\":41.6,\"Height\":16.8896,\"Width\":6.1984},{\"Species\":\"Bream\",\"Weight\":1000.0,\"Length1\":33.5,\"Length2\":37.0,\"Length3\":42.6,\"Height\":18.957,\"Width\":6.603},{\"Species\":\"Bream\",\"Weight\":920.0,\"Length1\":35.0,\"Length2\":38.5,\"Length3\":44.1,\"Height\":18.0369,\"Width\":6.3063},{\"Species\":\"Bream\",\"Weight\":955.0,\"Length1\":35.0,\"Length2\":38.5,\"Length3\":44.0,\"Height\":18.084,\"Width\":6.292},{\"Species\":\"Bream\",\"Weight\":925.0,\"Length1\":36.2,\"Length2\":39.5,\"Length3\":45.3,\"Height\":18.7542,\"Width\":6.7497},{\"Species\":\"Bream\",\"Weight\":975.0,\"Length1\":37.4,\"Length2\":41.0,\"Length3\":45.9,\"Height\":18.6354,\"Width\":6.7473},{\"Species\":\"Bream\",\"Weight\":950.0,\"Length1\":38.0,\"Length2\":41.0,\"Length3\":46.5,\"Height\":17.6235,\"Width\":6.3705},{\"Species\":\"Roach\",\"Weight\":40.0,\"Length1\":12.9,\"Length2\":14.1,\"Length3\":16.2,\"Height\":4.1472,\"Width\":2.268},{\"Species\":\"Roach\",\"Weight\":69.0,\"Length1\":16.5,\"Length2\":18.2,\"Length3\":20.3,\"Height\":5.2983,\"Width\":2.8217},{\"Species\":\"Roach\",\"Weight\":78.0,\"Length1\":17.5,\"Length2\":18.8,\"Length3\":21.2,\"Height\":5.5756,\"Width\":2.9044},{\"Species\":\"Roach\",\"Weight\":87.0,\"Length1\":18.2,\"Length2\":19.8,\"Length3\":22.2,\"Height\":5.6166,\"Width\":3.1746},{\"Species\":\"Roach\",\"Weight\":120.0,\"Length1\":18.6,\"Length2\":20.0,\"Length3\":22.2,\"Height\":6.216,\"Width\":3.5742},{\"Species\":\"Roach\",\"Weight\":0.0,\"Length1\":19.0,\"Length2\":20.5,\"Length3\":22.8,\"Height\":6.4752,\"Width\":3.3516},{\"Species\":\"Roach\",\"Weight\":110.0,\"Length1\":19.1,\"Length2\":20.8,\"Length3\":23.1,\"Height\":6.1677,\"Width\":3.3957},{\"Species\":\"Roach\",\"Weight\":120.0,\"Length1\":19.4,\"Length2\":21.0,\"Length3\":23.7,\"Height\":6.1146,\"Width\":3.2943},{\"Species\":\"Roach\",\"Weight\":150.0,\"Length1\":20.4,\"Length2\":22.0,\"Length3\":24.7,\"Height\":5.8045,\"Width\":3.7544},{\"Species\":\"Roach\",\"Weight\":145.0,\"Length1\":20.5,\"Length2\":22.0,\"Length3\":24.3,\"Height\":6.6339,\"Width\":3.5478},{\"Species\":\"Roach\",\"Weight\":160.0,\"Length1\":20.5,\"Length2\":22.5,\"Length3\":25.3,\"Height\":7.0334,\"Width\":3.8203},{\"Species\":\"Roach\",\"Weight\":140.0,\"Length1\":21.0,\"Length2\":22.5,\"Length3\":25.0,\"Height\":6.55,\"Width\":3.325},{\"Species\":\"Roach\",\"Weight\":160.0,\"Length1\":21.1,\"Length2\":22.5,\"Length3\":25.0,\"Height\":6.4,\"Width\":3.8},{\"Species\":\"Roach\",\"Weight\":169.0,\"Length1\":22.0,\"Length2\":24.0,\"Length3\":27.2,\"Height\":7.5344,\"Width\":3.8352},{\"Species\":\"Roach\",\"Weight\":161.0,\"Length1\":22.0,\"Length2\":23.4,\"Length3\":26.7,\"Height\":6.9153,\"Width\":3.6312},{\"Species\":\"Roach\",\"Weight\":200.0,\"Length1\":22.1,\"Length2\":23.5,\"Length3\":26.8,\"Height\":7.3968,\"Width\":4.1272},{\"Species\":\"Roach\",\"Weight\":180.0,\"Length1\":23.6,\"Length2\":25.2,\"Length3\":27.9,\"Height\":7.0866,\"Width\":3.906},{\"Species\":\"Roach\",\"Weight\":290.0,\"Length1\":24.0,\"Length2\":26.0,\"Length3\":29.2,\"Height\":8.8768,\"Width\":4.4968},{\"Species\":\"Roach\",\"Weight\":272.0,\"Length1\":25.0,\"Length2\":27.0,\"Length3\":30.6,\"Height\":8.568,\"Width\":4.7736},{\"Species\":\"Roach\",\"Weight\":390.0,\"Length1\":29.5,\"Length2\":31.7,\"Length3\":35.0,\"Height\":9.485,\"Width\":5.355},{\"Species\":\"Whitefish\",\"Weight\":270.0,\"Length1\":23.6,\"Length2\":26.0,\"Length3\":28.7,\"Height\":8.3804,\"Width\":4.2476},{\"Species\":\"Whitefish\",\"Weight\":270.0,\"Length1\":24.1,\"Length2\":26.5,\"Length3\":29.3,\"Height\":8.1454,\"Width\":4.2485},{\"Species\":\"Whitefish\",\"Weight\":306.0,\"Length1\":25.6,\"Length2\":28.0,\"Length3\":30.8,\"Height\":8.778,\"Width\":4.6816},{\"Species\":\"Whitefish\",\"Weight\":540.0,\"Length1\":28.5,\"Length2\":31.0,\"Length3\":34.0,\"Height\":10.744,\"Width\":6.562},{\"Species\":\"Whitefish\",\"Weight\":800.0,\"Length1\":33.7,\"Length2\":36.4,\"Length3\":39.6,\"Height\":11.7612,\"Width\":6.5736},{\"Species\":\"Whitefish\",\"Weight\":1000.0,\"Length1\":37.3,\"Length2\":40.0,\"Length3\":43.5,\"Height\":12.354,\"Width\":6.525},{\"Species\":\"Parkki\",\"Weight\":55.0,\"Length1\":13.5,\"Length2\":14.7,\"Length3\":16.5,\"Height\":6.8475,\"Width\":2.3265},{\"Species\":\"Parkki\",\"Weight\":60.0,\"Length1\":14.3,\"Length2\":15.5,\"Length3\":17.4,\"Height\":6.5772,\"Width\":2.3142},{\"Species\":\"Parkki\",\"Weight\":90.0,\"Length1\":16.3,\"Length2\":17.7,\"Length3\":19.8,\"Height\":7.4052,\"Width\":2.673},{\"Species\":\"Parkki\",\"Weight\":120.0,\"Length1\":17.5,\"Length2\":19.0,\"Length3\":21.3,\"Height\":8.3922,\"Width\":2.9181},{\"Species\":\"Parkki\",\"Weight\":150.0,\"Length1\":18.4,\"Length2\":20.0,\"Length3\":22.4,\"Height\":8.8928,\"Width\":3.2928},{\"Species\":\"Parkki\",\"Weight\":140.0,\"Length1\":19.0,\"Length2\":20.7,\"Length3\":23.2,\"Height\":8.5376,\"Width\":3.2944},{\"Species\":\"Parkki\",\"Weight\":170.0,\"Length1\":19.0,\"Length2\":20.7,\"Length3\":23.2,\"Height\":9.396,\"Width\":3.4104},{\"Species\":\"Parkki\",\"Weight\":145.0,\"Length1\":19.8,\"Length2\":21.5,\"Length3\":24.1,\"Height\":9.7364,\"Width\":3.1571},{\"Species\":\"Parkki\",\"Weight\":200.0,\"Length1\":21.2,\"Length2\":23.0,\"Length3\":25.8,\"Height\":10.3458,\"Width\":3.6636},{\"Species\":\"Parkki\",\"Weight\":273.0,\"Length1\":23.0,\"Length2\":25.0,\"Length3\":28.0,\"Height\":11.088,\"Width\":4.144},{\"Species\":\"Parkki\",\"Weight\":300.0,\"Length1\":24.0,\"Length2\":26.0,\"Length3\":29.0,\"Height\":11.368,\"Width\":4.234},{\"Species\":\"Perch\",\"Weight\":5.9,\"Length1\":7.5,\"Length2\":8.4,\"Length3\":8.8,\"Height\":2.112,\"Width\":1.408},{\"Species\":\"Perch\",\"Weight\":32.0,\"Length1\":12.5,\"Length2\":13.7,\"Length3\":14.7,\"Height\":3.528,\"Width\":1.9992},{\"Species\":\"Perch\",\"Weight\":40.0,\"Length1\":13.8,\"Length2\":15.0,\"Length3\":16.0,\"Height\":3.824,\"Width\":2.432},{\"Species\":\"Perch\",\"Weight\":51.5,\"Length1\":15.0,\"Length2\":16.2,\"Length3\":17.2,\"Height\":4.5924,\"Width\":2.6316},{\"Species\":\"Perch\",\"Weight\":70.0,\"Length1\":15.7,\"Length2\":17.4,\"Length3\":18.5,\"Height\":4.588,\"Width\":2.9415},{\"Species\":\"Perch\",\"Weight\":100.0,\"Length1\":16.2,\"Length2\":18.0,\"Length3\":19.2,\"Height\":5.2224,\"Width\":3.3216},{\"Species\":\"Perch\",\"Weight\":78.0,\"Length1\":16.8,\"Length2\":18.7,\"Length3\":19.4,\"Height\":5.1992,\"Width\":3.1234},{\"Species\":\"Perch\",\"Weight\":80.0,\"Length1\":17.2,\"Length2\":19.0,\"Length3\":20.2,\"Height\":5.6358,\"Width\":3.0502},{\"Species\":\"Perch\",\"Weight\":85.0,\"Length1\":17.8,\"Length2\":19.6,\"Length3\":20.8,\"Height\":5.1376,\"Width\":3.0368},{\"Species\":\"Perch\",\"Weight\":85.0,\"Length1\":18.2,\"Length2\":20.0,\"Length3\":21.0,\"Height\":5.082,\"Width\":2.772},{\"Species\":\"Perch\",\"Weight\":110.0,\"Length1\":19.0,\"Length2\":21.0,\"Length3\":22.5,\"Height\":5.6925,\"Width\":3.555},{\"Species\":\"Perch\",\"Weight\":115.0,\"Length1\":19.0,\"Length2\":21.0,\"Length3\":22.5,\"Height\":5.9175,\"Width\":3.3075},{\"Species\":\"Perch\",\"Weight\":125.0,\"Length1\":19.0,\"Length2\":21.0,\"Length3\":22.5,\"Height\":5.6925,\"Width\":3.6675},{\"Species\":\"Perch\",\"Weight\":130.0,\"Length1\":19.3,\"Length2\":21.3,\"Length3\":22.8,\"Height\":6.384,\"Width\":3.534},{\"Species\":\"Perch\",\"Weight\":120.0,\"Length1\":20.0,\"Length2\":22.0,\"Length3\":23.5,\"Height\":6.11,\"Width\":3.4075},{\"Species\":\"Perch\",\"Weight\":120.0,\"Length1\":20.0,\"Length2\":22.0,\"Length3\":23.5,\"Height\":5.64,\"Width\":3.525},{\"Species\":\"Perch\",\"Weight\":130.0,\"Length1\":20.0,\"Length2\":22.0,\"Length3\":23.5,\"Height\":6.11,\"Width\":3.525},{\"Species\":\"Perch\",\"Weight\":135.0,\"Length1\":20.0,\"Length2\":22.0,\"Length3\":23.5,\"Height\":5.875,\"Width\":3.525},{\"Species\":\"Perch\",\"Weight\":110.0,\"Length1\":20.0,\"Length2\":22.0,\"Length3\":23.5,\"Height\":5.5225,\"Width\":3.995},{\"Species\":\"Perch\",\"Weight\":130.0,\"Length1\":20.5,\"Length2\":22.5,\"Length3\":24.0,\"Height\":5.856,\"Width\":3.624},{\"Species\":\"Perch\",\"Weight\":150.0,\"Length1\":20.5,\"Length2\":22.5,\"Length3\":24.0,\"Height\":6.792,\"Width\":3.624},{\"Species\":\"Perch\",\"Weight\":145.0,\"Length1\":20.7,\"Length2\":22.7,\"Length3\":24.2,\"Height\":5.9532,\"Width\":3.63},{\"Species\":\"Perch\",\"Weight\":150.0,\"Length1\":21.0,\"Length2\":23.0,\"Length3\":24.5,\"Height\":5.2185,\"Width\":3.626},{\"Species\":\"Perch\",\"Weight\":170.0,\"Length1\":21.5,\"Length2\":23.5,\"Length3\":25.0,\"Height\":6.275,\"Width\":3.725},{\"Species\":\"Perch\",\"Weight\":225.0,\"Length1\":22.0,\"Length2\":24.0,\"Length3\":25.5,\"Height\":7.293,\"Width\":3.723},{\"Species\":\"Perch\",\"Weight\":145.0,\"Length1\":22.0,\"Length2\":24.0,\"Length3\":25.5,\"Height\":6.375,\"Width\":3.825},{\"Species\":\"Perch\",\"Weight\":188.0,\"Length1\":22.6,\"Length2\":24.6,\"Length3\":26.2,\"Height\":6.7334,\"Width\":4.1658},{\"Species\":\"Perch\",\"Weight\":180.0,\"Length1\":23.0,\"Length2\":25.0,\"Length3\":26.5,\"Height\":6.4395,\"Width\":3.6835},{\"Species\":\"Perch\",\"Weight\":197.0,\"Length1\":23.5,\"Length2\":25.6,\"Length3\":27.0,\"Height\":6.561,\"Width\":4.239},{\"Species\":\"Perch\",\"Weight\":218.0,\"Length1\":25.0,\"Length2\":26.5,\"Length3\":28.0,\"Height\":7.168,\"Width\":4.144},{\"Species\":\"Perch\",\"Weight\":300.0,\"Length1\":25.2,\"Length2\":27.3,\"Length3\":28.7,\"Height\":8.323,\"Width\":5.1373},{\"Species\":\"Perch\",\"Weight\":260.0,\"Length1\":25.4,\"Length2\":27.5,\"Length3\":28.9,\"Height\":7.1672,\"Width\":4.335},{\"Species\":\"Perch\",\"Weight\":265.0,\"Length1\":25.4,\"Length2\":27.5,\"Length3\":28.9,\"Height\":7.0516,\"Width\":4.335},{\"Species\":\"Perch\",\"Weight\":250.0,\"Length1\":25.4,\"Length2\":27.5,\"Length3\":28.9,\"Height\":7.2828,\"Width\":4.5662},{\"Species\":\"Perch\",\"Weight\":250.0,\"Length1\":25.9,\"Length2\":28.0,\"Length3\":29.4,\"Height\":7.8204,\"Width\":4.2042},{\"Species\":\"Perch\",\"Weight\":300.0,\"Length1\":26.9,\"Length2\":28.7,\"Length3\":30.1,\"Height\":7.5852,\"Width\":4.6354},{\"Species\":\"Perch\",\"Weight\":320.0,\"Length1\":27.8,\"Length2\":30.0,\"Length3\":31.6,\"Height\":7.6156,\"Width\":4.7716},{\"Species\":\"Perch\",\"Weight\":514.0,\"Length1\":30.5,\"Length2\":32.8,\"Length3\":34.0,\"Height\":10.03,\"Width\":6.018},{\"Species\":\"Perch\",\"Weight\":556.0,\"Length1\":32.0,\"Length2\":34.5,\"Length3\":36.5,\"Height\":10.2565,\"Width\":6.3875},{\"Species\":\"Perch\",\"Weight\":840.0,\"Length1\":32.5,\"Length2\":35.0,\"Length3\":37.3,\"Height\":11.4884,\"Width\":7.7957},{\"Species\":\"Perch\",\"Weight\":685.0,\"Length1\":34.0,\"Length2\":36.5,\"Length3\":39.0,\"Height\":10.881,\"Width\":6.864},{\"Species\":\"Perch\",\"Weight\":700.0,\"Length1\":34.0,\"Length2\":36.0,\"Length3\":38.3,\"Height\":10.6091,\"Width\":6.7408},{\"Species\":\"Perch\",\"Weight\":700.0,\"Length1\":34.5,\"Length2\":37.0,\"Length3\":39.4,\"Height\":10.835,\"Width\":6.2646},{\"Species\":\"Perch\",\"Weight\":690.0,\"Length1\":34.6,\"Length2\":37.0,\"Length3\":39.3,\"Height\":10.5717,\"Width\":6.3666},{\"Species\":\"Perch\",\"Weight\":900.0,\"Length1\":36.5,\"Length2\":39.0,\"Length3\":41.4,\"Height\":11.1366,\"Width\":7.4934},{\"Species\":\"Perch\",\"Weight\":650.0,\"Length1\":36.5,\"Length2\":39.0,\"Length3\":41.4,\"Height\":11.1366,\"Width\":6.003},{\"Species\":\"Perch\",\"Weight\":820.0,\"Length1\":36.6,\"Length2\":39.0,\"Length3\":41.3,\"Height\":12.4313,\"Width\":7.3514},{\"Species\":\"Perch\",\"Weight\":850.0,\"Length1\":36.9,\"Length2\":40.0,\"Length3\":42.3,\"Height\":11.9286,\"Width\":7.1064},{\"Species\":\"Perch\",\"Weight\":900.0,\"Length1\":37.0,\"Length2\":40.0,\"Length3\":42.5,\"Height\":11.73,\"Width\":7.225},{\"Species\":\"Perch\",\"Weight\":1015.0,\"Length1\":37.0,\"Length2\":40.0,\"Length3\":42.4,\"Height\":12.3808,\"Width\":7.4624},{\"Species\":\"Perch\",\"Weight\":820.0,\"Length1\":37.1,\"Length2\":40.0,\"Length3\":42.5,\"Height\":11.135,\"Width\":6.63},{\"Species\":\"Perch\",\"Weight\":1100.0,\"Length1\":39.0,\"Length2\":42.0,\"Length3\":44.6,\"Height\":12.8002,\"Width\":6.8684},{\"Species\":\"Perch\",\"Weight\":1000.0,\"Length1\":39.8,\"Length2\":43.0,\"Length3\":45.2,\"Height\":11.9328,\"Width\":7.2772},{\"Species\":\"Perch\",\"Weight\":1100.0,\"Length1\":40.1,\"Length2\":43.0,\"Length3\":45.5,\"Height\":12.5125,\"Width\":7.4165},{\"Species\":\"Perch\",\"Weight\":1000.0,\"Length1\":40.2,\"Length2\":43.5,\"Length3\":46.0,\"Height\":12.604,\"Width\":8.142},{\"Species\":\"Perch\",\"Weight\":1000.0,\"Length1\":41.1,\"Length2\":44.0,\"Length3\":46.6,\"Height\":12.4888,\"Width\":7.5958},{\"Species\":\"Pike\",\"Weight\":200.0,\"Length1\":30.0,\"Length2\":32.3,\"Length3\":34.8,\"Height\":5.568,\"Width\":3.3756},{\"Species\":\"Pike\",\"Weight\":300.0,\"Length1\":31.7,\"Length2\":34.0,\"Length3\":37.8,\"Height\":5.7078,\"Width\":4.158},{\"Species\":\"Pike\",\"Weight\":300.0,\"Length1\":32.7,\"Length2\":35.0,\"Length3\":38.8,\"Height\":5.9364,\"Width\":4.3844},{\"Species\":\"Pike\",\"Weight\":300.0,\"Length1\":34.8,\"Length2\":37.3,\"Length3\":39.8,\"Height\":6.2884,\"Width\":4.0198},{\"Species\":\"Pike\",\"Weight\":430.0,\"Length1\":35.5,\"Length2\":38.0,\"Length3\":40.5,\"Height\":7.29,\"Width\":4.5765},{\"Species\":\"Pike\",\"Weight\":345.0,\"Length1\":36.0,\"Length2\":38.5,\"Length3\":41.0,\"Height\":6.396,\"Width\":3.977},{\"Species\":\"Pike\",\"Weight\":456.0,\"Length1\":40.0,\"Length2\":42.5,\"Length3\":45.5,\"Height\":7.28,\"Width\":4.3225},{\"Species\":\"Pike\",\"Weight\":510.0,\"Length1\":40.0,\"Length2\":42.5,\"Length3\":45.5,\"Height\":6.825,\"Width\":4.459},{\"Species\":\"Pike\",\"Weight\":540.0,\"Length1\":40.1,\"Length2\":43.0,\"Length3\":45.8,\"Height\":7.786,\"Width\":5.1296},{\"Species\":\"Pike\",\"Weight\":500.0,\"Length1\":42.0,\"Length2\":45.0,\"Length3\":48.0,\"Height\":6.96,\"Width\":4.896},{\"Species\":\"Pike\",\"Weight\":567.0,\"Length1\":43.2,\"Length2\":46.0,\"Length3\":48.7,\"Height\":7.792,\"Width\":4.87},{\"Species\":\"Pike\",\"Weight\":770.0,\"Length1\":44.8,\"Length2\":48.0,\"Length3\":51.2,\"Height\":7.68,\"Width\":5.376},{\"Species\":\"Pike\",\"Weight\":950.0,\"Length1\":48.3,\"Length2\":51.7,\"Length3\":55.1,\"Height\":8.9262,\"Width\":6.1712},{\"Species\":\"Pike\",\"Weight\":1250.0,\"Length1\":52.0,\"Length2\":56.0,\"Length3\":59.7,\"Height\":10.6863,\"Width\":6.9849},{\"Species\":\"Pike\",\"Weight\":1600.0,\"Length1\":56.0,\"Length2\":60.0,\"Length3\":64.0,\"Height\":9.6,\"Width\":6.144},{\"Species\":\"Pike\",\"Weight\":1550.0,\"Length1\":56.0,\"Length2\":60.0,\"Length3\":64.0,\"Height\":9.6,\"Width\":6.144},{\"Species\":\"Pike\",\"Weight\":1650.0,\"Length1\":59.0,\"Length2\":63.4,\"Length3\":68.0,\"Height\":10.812,\"Width\":7.48},{\"Species\":\"Smelt\",\"Weight\":6.7,\"Length1\":9.3,\"Length2\":9.8,\"Length3\":10.8,\"Height\":1.7388,\"Width\":1.0476},{\"Species\":\"Smelt\",\"Weight\":7.5,\"Length1\":10.0,\"Length2\":10.5,\"Length3\":11.6,\"Height\":1.972,\"Width\":1.16},{\"Species\":\"Smelt\",\"Weight\":7.0,\"Length1\":10.1,\"Length2\":10.6,\"Length3\":11.6,\"Height\":1.7284,\"Width\":1.1484},{\"Species\":\"Smelt\",\"Weight\":9.7,\"Length1\":10.4,\"Length2\":11.0,\"Length3\":12.0,\"Height\":2.196,\"Width\":1.38},{\"Species\":\"Smelt\",\"Weight\":9.8,\"Length1\":10.7,\"Length2\":11.2,\"Length3\":12.4,\"Height\":2.0832,\"Width\":1.2772},{\"Species\":\"Smelt\",\"Weight\":8.7,\"Length1\":10.8,\"Length2\":11.3,\"Length3\":12.6,\"Height\":1.9782,\"Width\":1.2852},{\"Species\":\"Smelt\",\"Weight\":10.0,\"Length1\":11.3,\"Length2\":11.8,\"Length3\":13.1,\"Height\":2.2139,\"Width\":1.2838},{\"Species\":\"Smelt\",\"Weight\":9.9,\"Length1\":11.3,\"Length2\":11.8,\"Length3\":13.1,\"Height\":2.2139,\"Width\":1.1659},{\"Species\":\"Smelt\",\"Weight\":9.8,\"Length1\":11.4,\"Length2\":12.0,\"Length3\":13.2,\"Height\":2.2044,\"Width\":1.1484},{\"Species\":\"Smelt\",\"Weight\":12.2,\"Length1\":11.5,\"Length2\":12.2,\"Length3\":13.4,\"Height\":2.0904,\"Width\":1.3936},{\"Species\":\"Smelt\",\"Weight\":13.4,\"Length1\":11.7,\"Length2\":12.4,\"Length3\":13.5,\"Height\":2.43,\"Width\":1.269},{\"Species\":\"Smelt\",\"Weight\":12.2,\"Length1\":12.1,\"Length2\":13.0,\"Length3\":13.8,\"Height\":2.277,\"Width\":1.2558},{\"Species\":\"Smelt\",\"Weight\":19.7,\"Length1\":13.2,\"Length2\":14.3,\"Length3\":15.2,\"Height\":2.8728,\"Width\":2.0672},{\"Species\":\"Smelt\",\"Weight\":19.9,\"Length1\":13.8,\"Length2\":15.0,\"Length3\":16.2,\"Height\":2.9322,\"Width\":1.8792}];\n",
       "\n",
       "        var colorgen = d3.scale.ordinal()\n",
       "        .range([\"#a6cee3\",\"#1f78b4\",\"#b2df8a\",\"#33a02c\",\n",
       "                \"#fb9a99\",\"#e31a1c\",\"#fdbf6f\",\"#ff7f00\",\n",
       "                \"#cab2d6\",\"#6a3d9a\",\"#ffff99\",\"#b15928\"]);\n",
       "\n",
       "        var color = function(d) { return colors(d.group); };\n",
       "\n",
       "        parcoords = d3.parcoords()(\"#uckv\")\n",
       "            .data(data)\n",
       "            .hideAxis([\"name\"])\n",
       "            .color(color)\n",
       "            .alpha(0.15)\n",
       "            .composite(\"darken\")\n",
       "            .margin({ top: 20, left: 10, bottom: 10, right: 0 })\n",
       "            .mode(\"queue\")\n",
       "            .render()\n",
       "            .reorderable()\n",
       "            .brushMode(\"1D-axes\");  // enable brushing\n",
       "\n",
       "        parcoords.svg.selectAll(\"text\").style(\"font\", \"10px sans-serif\");\n",
       "    </script>\n",
       "</main>\n"
      ],
      "text/plain": [
       "<IPython.core.display.HTML object>"
      ]
     },
     "execution_count": 104,
     "metadata": {},
     "output_type": "execute_result"
    }
   ],
   "source": [
    "moar_human_learn()"
   ]
  }
 ],
 "metadata": {
  "kernelspec": {
   "display_name": "Python 3",
   "language": "python",
   "name": "python3"
  },
  "language_info": {
   "codemirror_mode": {
    "name": "ipython",
    "version": 3
   },
   "file_extension": ".py",
   "mimetype": "text/x-python",
   "name": "python",
   "nbconvert_exporter": "python",
   "pygments_lexer": "ipython3",
   "version": "3.7.7"
  }
 },
 "nbformat": 4,
 "nbformat_minor": 4
}
